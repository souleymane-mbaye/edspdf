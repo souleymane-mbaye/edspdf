{
 "cells": [
  {
   "cell_type": "markdown",
   "id": "3e604c01-9c68-42aa-b26b-9daa16dcdd6a",
   "metadata": {},
   "source": [
    "# Test pubLN, load"
   ]
  },
  {
   "cell_type": "markdown",
   "id": "340117d9-8d72-413c-8f7d-7f6f547f2a08",
   "metadata": {},
   "source": [
    "## Load annotations"
   ]
  },
  {
   "cell_type": "code",
   "execution_count": 40,
   "id": "61e11f3f-f1a7-4e9d-9002-561a1abcada2",
   "metadata": {
    "tags": []
   },
   "outputs": [
    {
     "name": "stdout",
     "output_type": "stream",
     "text": [
      " nb pdfs 120761\n",
      "schema dict_keys(['images', 'annotations', 'categories'])\n",
      "Schema annotations:\n",
      "\tTaille 120761 -->  dict_keys(['segmentation', 'area', 'iscrowd', 'image_id', 'bbox', 'category_id', 'id'])\n",
      "Schema images:\n",
      "\tTaille 11245 -->  dict_keys(['file_name', 'width', 'id', 'height'])\n",
      "Schema categories:\n",
      "\tTaille 5 -->  dict_keys(['supercategory', 'id', 'name'])\n",
      "\t[{'supercategory': '', 'id': 1, 'name': 'text'}, {'supercategory': '', 'id': 2, 'name': 'title'}, {'supercategory': '', 'id': 3, 'name': 'list'}, {'supercategory': '', 'id': 4, 'name': 'table'}, {'supercategory': '', 'id': 5, 'name': 'figure'}]\n"
     ]
    }
   ],
   "source": [
    "from pathlib import Path\n",
    "import json\n",
    "\n",
    "with open(Path(\"../data/publaynet/dev.json\")) as f:\n",
    "  samples = json.load(f)\n",
    "\n",
    "print(f' nb pdfs {len(samples[\"annotations\"])}')\n",
    "print(f'schema {samples.keys()}')\n",
    "print(f'Schema annotations:\\n\\tTaille {len(samples[\"annotations\"])} -->  {samples[\"annotations\"][0].keys()}')\n",
    "print(f'Schema images:\\n\\tTaille {len(samples[\"images\"])} -->  {samples[\"images\"][0].keys()}')\n",
    "print(f'Schema categories:\\n\\tTaille {len(samples[\"categories\"])} -->  {samples[\"categories\"][0].keys()}\\n\\t{samples[\"categories\"]}')"
   ]
  },
  {
   "cell_type": "markdown",
   "id": "f465f07d-c3b5-45c5-ab6a-c8fe41ac171c",
   "metadata": {},
   "source": [
    "## xml files (pmc_id, pdf_name, nxml_name)"
   ]
  },
  {
   "cell_type": "code",
   "execution_count": 41,
   "id": "f85d1b42-783f-4e55-8c4e-d3ddf0845165",
   "metadata": {
    "tags": []
   },
   "outputs": [],
   "source": [
    "import os\n",
    "import numpy as np\n",
    "\n",
    "dir = '../data/publaynet/xmls/'\n",
    "xmls_names = {} # {pmc = {xml_fname, pdf_fname}}\n",
    "\n",
    "for root, directories, files in os.walk(dir):\n",
    "  for pmc in directories:\n",
    "    fdir = dir + pmc\n",
    "    for root2, directories2, files2 in os.walk(fdir):\n",
    "      xml_fname = None\n",
    "      pdfs_fnames = []\n",
    "      for file in files2:\n",
    "        if file.split('.')[-1] == 'nxml':\n",
    "          xml_fname = file\n",
    "        if file.split('.')[-1] == 'pdf':\n",
    "          pdfs_fnames.append(file)\n",
    "      \n",
    "      lenghts = [len(pf) for pf in pdfs_fnames]\n",
    "      if len(lenghts) == 0:\n",
    "        print(f'fdir ==> {fdir}')\n",
    "      \n",
    "      i_min = np.argmin(lenghts)\n",
    "      xmls_names[pmc] = {'xml' :xml_fname, 'pdf': pdfs_fnames[i_min]}\n",
    "  break"
   ]
  },
  {
   "cell_type": "code",
   "execution_count": 42,
   "id": "35454d30-4d9e-4aba-b1e4-17d445f2c084",
   "metadata": {
    "tags": []
   },
   "outputs": [
    {
     "name": "stdout",
     "output_type": "stream",
     "text": [
      "PMC1310922 {'xml': 'ehp0113-001580.nxml', 'pdf': 'ehp0113-001580.pdf'}\n"
     ]
    }
   ],
   "source": [
    "for pmc_id in xmls_names:\n",
    "    print(pmc_id, xmls_names[pmc_id])\n",
    "    break"
   ]
  },
  {
   "cell_type": "code",
   "execution_count": 43,
   "id": "e854a47d-f0dd-4468-850f-fa0db53f22ff",
   "metadata": {
    "tags": []
   },
   "outputs": [
    {
     "data": {
      "text/plain": [
       "11245"
      ]
     },
     "execution_count": 43,
     "metadata": {},
     "output_type": "execute_result"
    }
   ],
   "source": [
    "samples_images_ant = samples['images']\n",
    "len(samples['images'])"
   ]
  },
  {
   "cell_type": "code",
   "execution_count": 54,
   "id": "c94a81c2-33c9-44d8-b34a-3ea42e6fc6c5",
   "metadata": {
    "tags": []
   },
   "outputs": [],
   "source": [
    "samples['images'] = samples_images_ant\n",
    "all_pdfs = False"
   ]
  },
  {
   "cell_type": "code",
   "execution_count": 55,
   "id": "395d35d5-9a68-47bb-8811-710b1fddc4ce",
   "metadata": {
    "tags": []
   },
   "outputs": [
    {
     "name": "stdout",
     "output_type": "stream",
     "text": [
      "all 11245 --> 123\n"
     ]
    }
   ],
   "source": [
    "    if not all_pdfs: # only images in xmls_names\n",
    "        samples_img = [\n",
    "          sample_img\n",
    "          for sample_img in samples['images']\n",
    "          if sample_img['file_name'].split('_')[0] in xmls_names\n",
    "        ]\n",
    "        print(f\"all {len(samples['images'])} --> {len(samples_img)}\")\n",
    "        samples['images'] = samples_img\n",
    "    # end only images in xmls_names\n",
    "\n",
    "\n",
    "    # Index images\n",
    "    images = {}\n",
    "    for image in samples['images']:\n",
    "        images[image['id']] = {\n",
    "        'pmc_id': image['file_name'].split('_')[0], \n",
    "        'page_num': int(image['file_name'].split('_')[1].split('.')[0]), \n",
    "        'annotations': []\n",
    "        }\n",
    "    for ann in samples['annotations']:\n",
    "        if all_pdfs:\n",
    "            images[ann['image_id']]['annotations'].append(ann) # all\n",
    "        elif ann['image_id'] in images: # with only images in xmls_names\n",
    "            images[ann['image_id']]['annotations'].append(ann)\n",
    "    # end index images"
   ]
  },
  {
   "cell_type": "code",
   "execution_count": 48,
   "id": "91387069-3bbd-49e5-9a84-b769d833648c",
   "metadata": {
    "tags": []
   },
   "outputs": [
    {
     "data": {
      "text/plain": [
       "{'file_name': 'PMC4055390_00006.jpg',\n",
       " 'width': 601,\n",
       " 'id': 341427,\n",
       " 'height': 792}"
      ]
     },
     "execution_count": 48,
     "metadata": {},
     "output_type": "execute_result"
    }
   ],
   "source": [
    "samples['images'][0]"
   ]
  },
  {
   "cell_type": "code",
   "execution_count": 49,
   "id": "25679ca5-28d6-485f-aeea-9ff49f9ff271",
   "metadata": {
    "tags": []
   },
   "outputs": [
    {
     "data": {
      "text/plain": [
       "11245"
      ]
     },
     "execution_count": 49,
     "metadata": {},
     "output_type": "execute_result"
    }
   ],
   "source": [
    "len(samples['images'])"
   ]
  },
  {
   "cell_type": "code",
   "execution_count": null,
   "id": "b99ef463-650f-419d-b4d2-75ccc5911e7b",
   "metadata": {},
   "outputs": [],
   "source": []
  }
 ],
 "metadata": {
  "kernelspec": {
   "display_name": "edspdf-train",
   "language": "python",
   "name": "edspdf-train"
  },
  "language_info": {
   "codemirror_mode": {
    "name": "ipython",
    "version": 3
   },
   "file_extension": ".py",
   "mimetype": "text/x-python",
   "name": "python",
   "nbconvert_exporter": "python",
   "pygments_lexer": "ipython3",
   "version": "3.9.19"
  }
 },
 "nbformat": 4,
 "nbformat_minor": 5
}
