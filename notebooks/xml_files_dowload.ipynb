{
 "cells": [
  {
   "cell_type": "markdown",
   "metadata": {},
   "source": [
    "# Download th Pdf and xmls files"
   ]
  },
  {
   "cell_type": "markdown",
   "metadata": {},
   "source": [
    "## Get the annotations"
   ]
  },
  {
   "cell_type": "code",
   "execution_count": 3,
   "metadata": {
    "tags": []
   },
   "outputs": [
    {
     "name": "stdout",
     "output_type": "stream",
     "text": [
      "dev.json\t\t\ttest\t       train\t       xmls\n",
      "oa_file_list.ARTgjjvC.csv.part\ttest_urls.txt  train_urls.txt  xmls-bis\n"
     ]
    }
   ],
   "source": [
    "!ls ../../edspdf-train/data/publaynet/"
   ]
  },
  {
   "cell_type": "code",
   "execution_count": 2,
   "metadata": {
    "tags": []
   },
   "outputs": [
    {
     "name": "stdout",
     "output_type": "stream",
     "text": [
      " nb pdfs 120761\n",
      "schema dict_keys(['images', 'annotations', 'categories'])\n",
      "Schema annotations:\n",
      "\tTaille 120761 -->  dict_keys(['segmentation', 'area', 'iscrowd', 'image_id', 'bbox', 'category_id', 'id'])\n",
      "Schema images:\n",
      "\tTaille 11245 -->  dict_keys(['file_name', 'width', 'id', 'height'])\n",
      "Schema categories:\n",
      "\tTaille 5 -->  dict_keys(['supercategory', 'id', 'name'])\n",
      "\t[{'supercategory': '', 'id': 1, 'name': 'text'}, {'supercategory': '', 'id': 2, 'name': 'title'}, {'supercategory': '', 'id': 3, 'name': 'list'}, {'supercategory': '', 'id': 4, 'name': 'table'}, {'supercategory': '', 'id': 5, 'name': 'figure'}]\n"
     ]
    }
   ],
   "source": [
    "from pathlib import Path\n",
    "import json\n",
    "\n",
    "with open(Path(\"../../edspdf-train/data/publaynet/dev.json\")) as f:\n",
    "  samples = json.load(f)\n",
    "\n",
    "print(f' nb pdfs {len(samples[\"annotations\"])}')\n",
    "print(f'schema {samples.keys()}')\n",
    "print(f'Schema annotations:\\n\\tTaille {len(samples[\"annotations\"])} -->  {samples[\"annotations\"][0].keys()}')\n",
    "print(f'Schema images:\\n\\tTaille {len(samples[\"images\"])} -->  {samples[\"images\"][0].keys()}')\n",
    "print(f'Schema categories:\\n\\tTaille {len(samples[\"categories\"])} -->  {samples[\"categories\"][0].keys()}\\n\\t{samples[\"categories\"]}')"
   ]
  },
  {
   "cell_type": "markdown",
   "metadata": {},
   "source": [
    "## Dowloading the xml files with their pdfs"
   ]
  },
  {
   "cell_type": "code",
   "execution_count": 4,
   "metadata": {
    "tags": []
   },
   "outputs": [
    {
     "data": {
      "text/plain": [
       "7797"
      ]
     },
     "execution_count": 4,
     "metadata": {},
     "output_type": "execute_result"
    }
   ],
   "source": [
    "annotation_ids = {\n",
    "  sample_img['file_name'].split('_')[0]\n",
    "  for sample_img in samples['images']\n",
    "}\n",
    "len(annotation_ids)"
   ]
  },
  {
   "cell_type": "code",
   "execution_count": 4,
   "metadata": {
    "tags": []
   },
   "outputs": [
    {
     "data": {
      "text/plain": [
       "['PMC2687932',\n",
       " 'PMC3747415',\n",
       " 'PMC4197285',\n",
       " 'PMC4678637',\n",
       " 'PMC5537629',\n",
       " 'PMC4213476',\n",
       " 'PMC3196213',\n",
       " 'PMC3375141',\n",
       " 'PMC3033126',\n",
       " 'PMC5723954']"
      ]
     },
     "execution_count": 4,
     "metadata": {},
     "output_type": "execute_result"
    }
   ],
   "source": [
    "list(annotation_ids)[:10]"
   ]
  },
  {
   "cell_type": "code",
   "execution_count": null,
   "metadata": {
    "tags": []
   },
   "outputs": [],
   "source": [
    "!head ../../edspdf-train/data/publaynet/oa_file_list.ARTgjjvC.csv.part"
   ]
  },
  {
   "cell_type": "code",
   "execution_count": 6,
   "metadata": {
    "tags": []
   },
   "outputs": [
    {
     "name": "stderr",
     "output_type": "stream",
     "text": [
      "374996it [32:32, 192.01it/s]  "
     ]
    },
    {
     "name": "stdout",
     "output_type": "stream",
     "text": [
      "Dowloaded 800 train examples on dir: ../../edspdf-train/data/publaynet/train/\n",
      "Dowloaded 200 test examples on dir: ../../edspdf-train/data/publaynet/test/\n",
      "Dowloaded 1000 train+test examples.\n"
     ]
    },
    {
     "name": "stderr",
     "output_type": "stream",
     "text": [
      "\n"
     ]
    }
   ],
   "source": [
    "from tqdm import tqdm\n",
    "import requests\n",
    "import tarfile\n",
    "\n",
    "NB_PDFs = 1000\n",
    "ptrain = 0.8\n",
    "ntrain = int(NB_PDFs * ptrain)\n",
    "\n",
    "oa_package = 'https://ftp.ncbi.nlm.nih.gov/pub/pmc/'\n",
    "train_dir = '../../edspdf-train/data/publaynet/train/'\n",
    "test_dir = '../../edspdf-train/data/publaynet/test/'\n",
    "\n",
    "train_urls, test_urls = [], []\n",
    "\n",
    "\n",
    "with open(\"../../edspdf-train/data/publaynet/oa_file_list.ARTgjjvC.csv.part\") as f:\n",
    "    i = 0\n",
    "    for line_idx, line in tqdm(enumerate(f)):\n",
    "        line = line.strip()\n",
    "        fname = line.split(\",\")[0]\n",
    "        pmc_id = fname.split(\"/\")[-1].split(\".\")[0]\n",
    "        url = oa_package + fname\n",
    "        fname = fname.split('/')[-1]\n",
    "\n",
    "        if pmc_id in annotation_ids:\n",
    "            i += 1\n",
    "            if i <= ntrain:\n",
    "                dir = train_dir\n",
    "                train_urls.append(url)\n",
    "            else:\n",
    "                dir = test_dir\n",
    "                test_urls.append(url)\n",
    "            # print(i,'/', NB_PDFs,\"PMC ID\", pmc_id, \"=>\", url, \"fname\", fname, end='\\r')\n",
    "\n",
    "            # telechazrger le tar.gz\n",
    "            r = requests.get(url)\n",
    "            open(dir+fname, 'wb').write(r.content)\n",
    "\n",
    "            # decompresser dans un dossier\n",
    "            tar = tarfile.open(dir + fname)\n",
    "            tar.extractall(dir)\n",
    "            tar.close()\n",
    "\n",
    "        if i >= NB_PDFs:\n",
    "            break\n",
    "\n",
    "# saving train_urls and test_urls\n",
    "with open('../../edspdf-train/data/publaynet/train_urls.txt', 'w') as f:\n",
    "    f.write('\\n'.join(train_urls))\n",
    "with open('../../edspdf-train/data/publaynet/test_urls.txt', 'w') as f:\n",
    "    f.write('\\n'.join(test_urls))\n",
    "\n",
    "print(f'Dowloaded {len(train_urls)} train examples on dir: {train_dir}')\n",
    "print(f'Dowloaded {len(test_urls)} test examples on dir: {test_dir}')\n",
    "print(f'Dowloaded {NB_PDFs} train+test examples.')"
   ]
  },
  {
   "cell_type": "code",
   "execution_count": 7,
   "metadata": {
    "tags": []
   },
   "outputs": [
    {
     "name": "stdout",
     "output_type": "stream",
     "text": [
      "rm: cannot remove '../../edspdf-train/data/publaynet/train/*.tar.gz': No such file or directory\n"
     ]
    }
   ],
   "source": [
    "# !rm ../../edspdf-train/data/publaynet/train/*.tar.gz"
   ]
  },
  {
   "cell_type": "code",
   "execution_count": 8,
   "metadata": {
    "tags": []
   },
   "outputs": [],
   "source": [
    "# !rm ../../edspdf-train/data/publaynet/test/*.tar.gz"
   ]
  },
  {
   "cell_type": "markdown",
   "metadata": {},
   "source": [
    "## Check if all of them have a pdf with a xml"
   ]
  },
  {
   "cell_type": "code",
   "execution_count": 101,
   "metadata": {},
   "outputs": [],
   "source": [
    "import os\n",
    "import numpy as np\n",
    "\n",
    "\n",
    "xmls_names = {} # {pmc = {xml_fname, pdf_fname}}\n",
    "\n",
    "for root, directories, files in os.walk(dir):\n",
    "    for pmc in directories:\n",
    "        fdir = dir + pmc\n",
    "        for root2, directories2, files2 in os.walk(fdir):\n",
    "            xml_fname = None\n",
    "            pdfs_fnames = []\n",
    "            for file in files2:\n",
    "                if file.split('.')[-1] == 'nxml':\n",
    "                    xml_fname = file\n",
    "                if file.split('.')[-1] == 'pdf':\n",
    "                    pdfs_fnames.append(file)\n",
    "\n",
    "            lenghts = [len(pf) for pf in pdfs_fnames]\n",
    "            if len(lenghts) == 0:\n",
    "                print(f'fdir ==> {fdir}')\n",
    "\n",
    "            i_min = np.argmin(les_lens)\n",
    "            xmls_names[pmc] = {'xml' :xml_fname, 'pdf': pdf_fnames[i_min]}\n",
    "        break"
   ]
  },
  {
   "cell_type": "code",
   "execution_count": 102,
   "metadata": {},
   "outputs": [
    {
     "data": {
      "text/plain": [
       "{'PMC1253713': {'xml': 'ehp0113-000073.nxml',\n",
       "  'pdf': 'glasgowmedj75691-0063.pdf'},\n",
       " 'PMC1247573': {'xml': 'ehp0112-001428.nxml',\n",
       "  'pdf': 'glasgowmedj75691-0063.pdf'},\n",
       " 'PMC1247188': {'xml': 'ehp0112-000959.nxml',\n",
       "  'pdf': 'glasgowmedj75691-0063.pdf'},\n",
       " 'PMC1281266': {'xml': 'ehp0113-001277.nxml',\n",
       "  'pdf': 'glasgowmedj75691-0063.pdf'},\n",
       " 'PMC1281292': {'xml': 'ehp0113-001430.nxml',\n",
       "  'pdf': 'glasgowmedj75691-0063.pdf'},\n",
       " 'PMC1280340': {'xml': 'ehp0113-001001.nxml',\n",
       "  'pdf': 'glasgowmedj75691-0063.pdf'},\n",
       " 'PMC1247186': {'xml': 'ehp0112-000944.nxml',\n",
       "  'pdf': 'glasgowmedj75691-0063.pdf'},\n",
       " 'PMC1332659': {'xml': 'ehp0114-000070.nxml',\n",
       "  'pdf': 'glasgowmedj75691-0063.pdf'},\n",
       " 'PMC1277117': {'xml': 'ehp0112-001236.nxml',\n",
       "  'pdf': 'glasgowmedj75691-0063.pdf'},\n",
       " 'PMC1247517': {'xml': 'ehp0112-001282.nxml',\n",
       "  'pdf': 'glasgowmedj75691-0063.pdf'},\n",
       " 'PMC1310933': {'xml': 'ehp0113-001651.nxml',\n",
       "  'pdf': 'glasgowmedj75691-0063.pdf'},\n",
       " 'PMC1281267': {'xml': 'ehp0113-001285.nxml',\n",
       "  'pdf': 'glasgowmedj75691-0063.pdf'},\n",
       " 'PMC1280348': {'xml': 'ehp0113-001052.nxml',\n",
       "  'pdf': 'glasgowmedj75691-0063.pdf'},\n",
       " 'PMC1247189': {'xml': 'ehp0112-000970.nxml',\n",
       "  'pdf': 'glasgowmedj75691-0063.pdf'},\n",
       " 'PMC1253748': {'xml': 'ehp0113-000255.nxml',\n",
       "  'pdf': 'glasgowmedj75691-0063.pdf'},\n",
       " 'PMC1247661': {'xml': 'ehp0112-001636.nxml',\n",
       "  'pdf': 'glasgowmedj75691-0063.pdf'},\n",
       " 'PMC1253658': {'xml': 'ehp0112-001673.nxml',\n",
       "  'pdf': 'glasgowmedj75691-0063.pdf'},\n",
       " 'PMC1278485': {'xml': 'ehp0113-000447.nxml',\n",
       "  'pdf': 'glasgowmedj75691-0063.pdf'},\n",
       " 'PMC1253669': {'xml': 'ehp0112-001755.nxml',\n",
       "  'pdf': 'glasgowmedj75691-0063.pdf'},\n",
       " 'PMC1257602': {'xml': 'ehp0113-000756.nxml',\n",
       "  'pdf': 'glasgowmedj75691-0063.pdf'},\n",
       " 'PMC1247658': {'xml': 'ehp0112-001614.nxml',\n",
       "  'pdf': 'glasgowmedj75691-0063.pdf'},\n",
       " 'PMC1277869': {'xml': 'ehp0113-000225.nxml',\n",
       "  'pdf': 'glasgowmedj75691-0063.pdf'},\n",
       " 'PMC1277856': {'xml': 'ehp0113-000143.nxml',\n",
       "  'pdf': 'glasgowmedj75691-0063.pdf'},\n",
       " 'PMC1280401': {'xml': 'ehp0113-001196.nxml',\n",
       "  'pdf': 'glasgowmedj75691-0063.pdf'},\n",
       " 'PMC1253668': {'xml': 'ehp0112-001741.nxml',\n",
       "  'pdf': 'glasgowmedj75691-0063.pdf'},\n",
       " 'PMC1257651': {'xml': 'ehp0113-000888.nxml',\n",
       "  'pdf': 'glasgowmedj75691-0063.pdf'},\n",
       " 'PMC1277867': {'xml': 'ehp0113-000211.nxml',\n",
       "  'pdf': 'glasgowmedj75691-0063.pdf'},\n",
       " 'PMC1253666': {'xml': 'ehp0112-001725.nxml',\n",
       "  'pdf': 'glasgowmedj75691-0063.pdf'},\n",
       " 'PMC1278484': {'xml': 'ehp0113-000440.nxml',\n",
       "  'pdf': 'glasgowmedj75691-0063.pdf'},\n",
       " 'PMC1247620': {'xml': 'ehp0112-001550.nxml',\n",
       "  'pdf': 'glasgowmedj75691-0063.pdf'},\n",
       " 'PMC1247616': {'xml': 'ehp0112-001519.nxml',\n",
       "  'pdf': 'glasgowmedj75691-0063.pdf'},\n",
       " 'PMC1308869': {'xml': '1477-9560-3-17.nxml',\n",
       "  'pdf': 'glasgowmedj75691-0063.pdf'},\n",
       " 'PMC1257643': {'xml': 'ehp0113-000840.nxml',\n",
       "  'pdf': 'glasgowmedj75691-0063.pdf'},\n",
       " 'PMC1257644': {'xml': 'ehp0113-000849.nxml',\n",
       "  'pdf': 'glasgowmedj75691-0063.pdf'},\n",
       " 'PMC1247478': {'xml': 'ehp0112-001178.nxml',\n",
       "  'pdf': 'glasgowmedj75691-0063.pdf'},\n",
       " 'PMC1257610': {'xml': 'ehp0113-000801.nxml',\n",
       "  'pdf': 'glasgowmedj75691-0063.pdf'},\n",
       " 'PMC1247485': {'xml': 'ehp0112-001213.nxml',\n",
       "  'pdf': 'glasgowmedj75691-0063.pdf'},\n",
       " 'PMC1253755': {'xml': 'ehp0113-000297.nxml',\n",
       "  'pdf': 'glasgowmedj75691-0063.pdf'},\n",
       " 'PMC1314928': {'xml': 'ehp0113-001817.nxml',\n",
       "  'pdf': 'glasgowmedj75691-0063.pdf'},\n",
       " 'PMC1310920': {'xml': 'ehp0113-001569.nxml',\n",
       "  'pdf': 'glasgowmedj75691-0063.pdf'},\n",
       " 'PMC1314910': {'xml': 'ehp0113-001712.nxml',\n",
       "  'pdf': 'glasgowmedj75691-0063.pdf'},\n",
       " 'PMC1087887': {'xml': '1477-9560-3-5.nxml',\n",
       "  'pdf': 'glasgowmedj75691-0063.pdf'},\n",
       " 'PMC1253701': {'xml': 'ehp0113-000001.nxml',\n",
       "  'pdf': 'glasgowmedj75691-0063.pdf'},\n",
       " 'PMC1315066': {'xml': 'ehp0113-001755.nxml',\n",
       "  'pdf': 'glasgowmedj75691-0063.pdf'},\n",
       " 'PMC1314918': {'xml': 'ehp0113-001768.nxml',\n",
       "  'pdf': 'glasgowmedj75691-0063.pdf'},\n",
       " 'PMC1310928': {'xml': 'ehp0113-001622.nxml',\n",
       "  'pdf': 'glasgowmedj75691-0063.pdf'},\n",
       " 'PMC1253753': {'xml': 'ehp0113-000285.nxml',\n",
       "  'pdf': 'glasgowmedj75691-0063.pdf'},\n",
       " 'PMC1314916': {'xml': 'ehp0113-001747.nxml',\n",
       "  'pdf': 'glasgowmedj75691-0063.pdf'},\n",
       " 'PMC1087888': {'xml': '1477-9560-3-6.nxml',\n",
       "  'pdf': 'glasgowmedj75691-0063.pdf'},\n",
       " 'PMC1310515': {'xml': '1477-9560-3-18.nxml',\n",
       "  'pdf': 'glasgowmedj75691-0063.pdf'},\n",
       " 'PMC1247569': {'xml': 'ehp0112-001409.nxml',\n",
       "  'pdf': 'glasgowmedj75691-0063.pdf'},\n",
       " 'PMC1253707': {'xml': 'ehp0113-000036.nxml',\n",
       "  'pdf': 'glasgowmedj75691-0063.pdf'},\n",
       " 'PMC1247523': {'xml': 'ehp0112-001319.nxml',\n",
       "  'pdf': 'glasgowmedj75691-0063.pdf'},\n",
       " 'PMC1314908': {'xml': 'ehp0113-001698.nxml',\n",
       "  'pdf': 'glasgowmedj75691-0063.pdf'},\n",
       " 'PMC548275': {'xml': '1471-227X-5-1.nxml',\n",
       "  'pdf': 'glasgowmedj75691-0063.pdf'},\n",
       " 'PMC1247515': {'xml': 'ehp0112-001269.nxml',\n",
       "  'pdf': 'glasgowmedj75691-0063.pdf'},\n",
       " 'PMC1310931': {'xml': 'ehp0113-001638.nxml',\n",
       "  'pdf': 'glasgowmedj75691-0063.pdf'},\n",
       " 'PMC1281265': {'xml': 'ehp0113-001271.nxml',\n",
       "  'pdf': 'glasgowmedj75691-0063.pdf'},\n",
       " 'PMC1281291': {'xml': 'ehp0113-001419.nxml',\n",
       "  'pdf': 'glasgowmedj75691-0063.pdf'},\n",
       " 'PMC1253717': {'xml': 'ehp0113-000098.nxml',\n",
       "  'pdf': 'glasgowmedj75691-0063.pdf'},\n",
       " 'PMC1247570': {'xml': 'ehp0112-001414.nxml',\n",
       "  'pdf': 'glasgowmedj75691-0063.pdf'},\n",
       " 'PMC1277123': {'xml': 'ehp0112-a00666.nxml',\n",
       "  'pdf': 'glasgowmedj75691-0063.pdf'},\n",
       " 'PMC1314907': {'xml': 'ehp0113-001693.nxml',\n",
       "  'pdf': 'glasgowmedj75691-0063.pdf'},\n",
       " 'PMC1310930': {'xml': 'ehp0113-001632.nxml',\n",
       "  'pdf': 'glasgowmedj75691-0063.pdf'},\n",
       " 'PMC1332662': {'xml': 'ehp0114-000092.nxml',\n",
       "  'pdf': 'glasgowmedj75691-0063.pdf'},\n",
       " 'PMC1241820': {'xml': 'ehp0112-000126.nxml',\n",
       "  'pdf': 'glasgowmedj75691-0063.pdf'},\n",
       " 'PMC1253711': {'xml': 'ehp0113-000062.nxml',\n",
       "  'pdf': 'glasgowmedj75691-0063.pdf'},\n",
       " 'PMC1247607': {'xml': 'ehp0112-001460.nxml',\n",
       "  'pdf': 'glasgowmedj75691-0063.pdf'},\n",
       " 'PMC1278475': {'xml': 'ehp0113-000383.nxml',\n",
       "  'pdf': 'glasgowmedj75691-0063.pdf'},\n",
       " 'PMC1277865': {'xml': 'ehp0113-000201.nxml',\n",
       "  'pdf': 'glasgowmedj75691-0063.pdf'},\n",
       " 'PMC1277862': {'xml': 'ehp0113-000180.nxml',\n",
       "  'pdf': 'glasgowmedj75691-0063.pdf'},\n",
       " 'PMC1278486': {'xml': 'ehp0113-000454.nxml',\n",
       "  'pdf': 'glasgowmedj75691-0063.pdf'},\n",
       " 'PMC1253655': {'xml': 'ehp0112-001658.nxml',\n",
       "  'pdf': 'glasgowmedj75691-0063.pdf'},\n",
       " 'PMC539300': {'xml': '1471-227X-4-5.nxml',\n",
       "  'pdf': 'glasgowmedj75691-0063.pdf'},\n",
       " 'PMC1280404': {'xml': 'ehp0113-001212.nxml',\n",
       "  'pdf': 'glasgowmedj75691-0063.pdf'},\n",
       " 'PMC1257607': {'xml': 'ehp0113-000782.nxml',\n",
       "  'pdf': 'glasgowmedj75691-0063.pdf'},\n",
       " 'PMC1247608': {'xml': 'ehp0112-001467.nxml',\n",
       "  'pdf': 'glasgowmedj75691-0063.pdf'},\n",
       " 'PMC555849': {'xml': '1477-9560-3-2.nxml',\n",
       "  'pdf': 'glasgowmedj75691-0063.pdf'},\n",
       " 'PMC1247606': {'xml': 'ehp0112-001447.nxml',\n",
       "  'pdf': 'glasgowmedj75691-0063.pdf'},\n",
       " 'PMC1278474': {'xml': 'ehp0113-000375.nxml',\n",
       "  'pdf': 'glasgowmedj75691-0063.pdf'},\n",
       " 'PMC1277864': {'xml': 'ehp0113-000192.nxml',\n",
       "  'pdf': 'glasgowmedj75691-0063.pdf'},\n",
       " 'PMC1257601': {'xml': 'ehp0113-000749.nxml',\n",
       "  'pdf': 'glasgowmedj75691-0063.pdf'},\n",
       " 'PMC538274': {'xml': '1477-9560-2-12.nxml',\n",
       "  'pdf': 'glasgowmedj75691-0063.pdf'},\n",
       " 'PMC1247480': {'xml': 'ehp0112-001188.nxml',\n",
       "  'pdf': 'glasgowmedj75691-0063.pdf'},\n",
       " 'PMC1247474': {'xml': 'ehp0112-001152.nxml',\n",
       "  'pdf': 'glasgowmedj75691-0063.pdf'},\n",
       " 'PMC1257646': {'xml': 'ehp0113-000858.nxml',\n",
       "  'pdf': 'glasgowmedj75691-0063.pdf'},\n",
       " 'PMC1253670': {'xml': 'ehp0112-001761.nxml',\n",
       "  'pdf': 'glasgowmedj75691-0063.pdf'},\n",
       " 'PMC1247625': {'xml': 'ehp0112-001583.nxml',\n",
       "  'pdf': 'glasgowmedj75691-0063.pdf'},\n",
       " 'PMC1247562': {'xml': 'ehp0112-001371.nxml',\n",
       "  'pdf': 'glasgowmedj75691-0063.pdf'},\n",
       " 'PMC1253705': {'xml': 'ehp0113-000025.nxml',\n",
       "  'pdf': 'glasgowmedj75691-0063.pdf'},\n",
       " 'PMC1310923': {'xml': 'ehp0113-001588.nxml',\n",
       "  'pdf': 'glasgowmedj75691-0063.pdf'},\n",
       " 'PMC1314913': {'xml': 'ehp0113-001730.nxml',\n",
       "  'pdf': 'glasgowmedj75691-0063.pdf'},\n",
       " 'PMC1257598': {'xml': 'ehp0113-000729.nxml',\n",
       "  'pdf': 'glasgowmedj75691-0063.pdf'},\n",
       " 'PMC1314914': {'xml': 'ehp0113-001735.nxml',\n",
       "  'pdf': 'glasgowmedj75691-0063.pdf'},\n",
       " 'PMC1310924': {'xml': 'ehp0113-001594.nxml',\n",
       "  'pdf': 'glasgowmedj75691-0063.pdf'},\n",
       " 'PMC1253756': {'xml': 'ehp0113-000304.nxml',\n",
       "  'pdf': 'glasgowmedj75691-0063.pdf'},\n",
       " 'PMC1325268': {'xml': '1477-9560-3-22.nxml',\n",
       "  'pdf': 'glasgowmedj75691-0063.pdf'},\n",
       " 'PMC1253761': {'xml': 'ehp0113-000335.nxml',\n",
       "  'pdf': 'glasgowmedj75691-0063.pdf'},\n",
       " 'PMC1281276': {'xml': 'ehp0113-001336.nxml',\n",
       "  'pdf': 'glasgowmedj75691-0063.pdf'},\n",
       " 'PMC1253757': {'xml': 'ehp0113-000310.nxml',\n",
       "  'pdf': 'glasgowmedj75691-0063.pdf'},\n",
       " 'PMC1310922': {'xml': 'ehp0113-001580.nxml',\n",
       "  'pdf': 'glasgowmedj75691-0063.pdf'}}"
      ]
     },
     "execution_count": 102,
     "metadata": {},
     "output_type": "execute_result"
    }
   ],
   "source": [
    "xmls_names"
   ]
  }
 ],
 "metadata": {
  "kernelspec": {
   "display_name": "edspdf-train",
   "language": "python",
   "name": "edspdf-train"
  },
  "language_info": {
   "codemirror_mode": {
    "name": "ipython",
    "version": 3
   },
   "file_extension": ".py",
   "mimetype": "text/x-python",
   "name": "python",
   "nbconvert_exporter": "python",
   "pygments_lexer": "ipython3",
   "version": "3.9.19"
  }
 },
 "nbformat": 4,
 "nbformat_minor": 4
}
