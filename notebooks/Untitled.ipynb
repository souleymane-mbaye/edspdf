{
 "cells": [
  {
   "cell_type": "markdown",
   "id": "3e604c01-9c68-42aa-b26b-9daa16dcdd6a",
   "metadata": {},
   "source": [
    "# Test pubLN, load"
   ]
  },
  {
   "cell_type": "markdown",
   "id": "340117d9-8d72-413c-8f7d-7f6f547f2a08",
   "metadata": {},
   "source": [
    "## Load annotations"
   ]
  },
  {
   "cell_type": "code",
   "execution_count": null,
   "id": "61e11f3f-f1a7-4e9d-9002-561a1abcada2",
   "metadata": {
    "tags": []
   },
   "outputs": [],
   "source": [
    "from pathlib import Path\n",
    "import json\n",
    "\n",
    "with open(Path(\"../data/publaynet/dev.json\")) as f:\n",
    "  samples = json.load(f)\n",
    "\n",
    "print(f' nb pdfs {len(samples[\"annotations\"])}')\n",
    "print(f'schema {samples.keys()}')\n",
    "print(f'Schema annotations:\\n\\tTaille {len(samples[\"annotations\"])} -->  {samples[\"annotations\"][0].keys()}')\n",
    "print(f'Schema images:\\n\\tTaille {len(samples[\"images\"])} -->  {samples[\"images\"][0].keys()}')\n",
    "print(f'Schema categories:\\n\\tTaille {len(samples[\"categories\"])} -->  {samples[\"categories\"][0].keys()}\\n\\t{samples[\"categories\"]}')"
   ]
  },
  {
   "cell_type": "markdown",
   "id": "f465f07d-c3b5-45c5-ab6a-c8fe41ac171c",
   "metadata": {},
   "source": [
    "## xml files (pmc_id, pdf_name, nxml_name)"
   ]
  },
  {
   "cell_type": "code",
   "execution_count": null,
   "id": "f85d1b42-783f-4e55-8c4e-d3ddf0845165",
   "metadata": {
    "tags": []
   },
   "outputs": [],
   "source": [
    "import os\n",
    "import numpy as np\n",
    "\n",
    "dir = '../data/publaynet/xmls/'\n",
    "xmls_names = {} # {pmc = {xml_fname, pdf_fname}}\n",
    "\n",
    "for root, directories, files in os.walk(dir):\n",
    "  for pmc in directories:\n",
    "    fdir = dir + pmc\n",
    "    for root2, directories2, files2 in os.walk(fdir):\n",
    "      xml_fname = None\n",
    "      pdfs_fnames = []\n",
    "      for file in files2:\n",
    "        if file.split('.')[-1] == 'nxml':\n",
    "          xml_fname = file\n",
    "        if file.split('.')[-1] == 'pdf':\n",
    "          pdfs_fnames.append(file)\n",
    "      \n",
    "      lenghts = [len(pf) for pf in pdfs_fnames]\n",
    "      if len(lenghts) == 0:\n",
    "        print(f'fdir ==> {fdir}')\n",
    "      \n",
    "      i_min = np.argmin(lenghts)\n",
    "      xmls_names[pmc] = {'xml' :xml_fname, 'pdf': pdfs_fnames[i_min]}\n",
    "  break"
   ]
  },
  {
   "cell_type": "code",
   "execution_count": 5,
   "id": "35454d30-4d9e-4aba-b1e4-17d445f2c084",
   "metadata": {
    "tags": []
   },
   "outputs": [
    {
     "data": {
      "text/plain": [
       "{'pol': 0, 'dir': 1, 'vect': 2, 'rien': 3}"
      ]
     },
     "execution_count": 5,
     "metadata": {},
     "output_type": "execute_result"
    }
   ],
   "source": [
    "labels = ['pol', 'dir', 'vect', 'rien']\n",
    "items = dict.fromkeys(labels)\n",
    "{v: i for i, v in enumerate(items)}"
   ]
  },
  {
   "cell_type": "code",
   "execution_count": null,
   "id": "24bc25f7-0982-436a-a9ae-70ca446805ed",
   "metadata": {
    "tags": []
   },
   "outputs": [],
   "source": [
    "print('bonjour')"
   ]
  },
  {
   "cell_type": "code",
   "execution_count": null,
   "id": "395d35d5-9a68-47bb-8811-710b1fddc4ce",
   "metadata": {},
   "outputs": [],
   "source": []
  }
 ],
 "metadata": {
  "kernelspec": {
   "display_name": "eds_env",
   "language": "python",
   "name": "python3"
  },
  "language_info": {
   "codemirror_mode": {
    "name": "ipython",
    "version": 3
   },
   "file_extension": ".py",
   "mimetype": "text/x-python",
   "name": "python",
   "nbconvert_exporter": "python",
   "pygments_lexer": "ipython3",
   "version": "3.9.19"
  }
 },
 "nbformat": 4,
 "nbformat_minor": 5
}
